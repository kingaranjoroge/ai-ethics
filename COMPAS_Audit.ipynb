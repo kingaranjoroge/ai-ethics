{
  "cells": [
    {
      "cell_type": "markdown",
      "metadata": {
        "id": "yM5eOkH0FsIH"
      },
      "source": [
        "# COMPAS Dataset Audit\n",
        "\n",
        "This notebook audits the COMPAS Recidivism dataset for racial bias using AI Fairness 360, pandas, and matplotlib.  \n",
        "See the summary and ethical discussion in `Compas_Dataset_Audit.md`."
      ]
    },
    {
      "cell_type": "code",
      "execution_count": null,
      "metadata": {
        "colab": {
          "base_uri": "https://localhost:8080/"
        },
        "id": "qxzLwEGoF2HG",
        "outputId": "618ba3ea-6dd5-485c-937c-7e2e34bd24d9"
      },
      "outputs": [
        {
          "name": "stdout",
          "output_type": "stream",
          "text": [
            "Collecting aif360\n",
            "  Downloading aif360-0.6.1-py3-none-any.whl.metadata (5.0 kB)\n",
            "Requirement already satisfied: pandas in /usr/local/lib/python3.11/dist-packages (2.2.2)\n",
            "Requirement already satisfied: matplotlib in /usr/local/lib/python3.11/dist-packages (3.10.0)\n",
            "Requirement already satisfied: scikit-learn in /usr/local/lib/python3.11/dist-packages (1.6.1)\n",
            "Requirement already satisfied: numpy>=1.16 in /usr/local/lib/python3.11/dist-packages (from aif360) (2.0.2)\n",
            "Requirement already satisfied: scipy>=1.2.0 in /usr/local/lib/python3.11/dist-packages (from aif360) (1.15.3)\n",
            "Requirement already satisfied: python-dateutil>=2.8.2 in /usr/local/lib/python3.11/dist-packages (from pandas) (2.9.0.post0)\n",
            "Requirement already satisfied: pytz>=2020.1 in /usr/local/lib/python3.11/dist-packages (from pandas) (2025.2)\n",
            "Requirement already satisfied: tzdata>=2022.7 in /usr/local/lib/python3.11/dist-packages (from pandas) (2025.2)\n",
            "Requirement already satisfied: contourpy>=1.0.1 in /usr/local/lib/python3.11/dist-packages (from matplotlib) (1.3.2)\n",
            "Requirement already satisfied: cycler>=0.10 in /usr/local/lib/python3.11/dist-packages (from matplotlib) (0.12.1)\n",
            "Requirement already satisfied: fonttools>=4.22.0 in /usr/local/lib/python3.11/dist-packages (from matplotlib) (4.58.5)\n",
            "Requirement already satisfied: kiwisolver>=1.3.1 in /usr/local/lib/python3.11/dist-packages (from matplotlib) (1.4.8)\n",
            "Requirement already satisfied: packaging>=20.0 in /usr/local/lib/python3.11/dist-packages (from matplotlib) (24.2)\n",
            "Requirement already satisfied: pillow>=8 in /usr/local/lib/python3.11/dist-packages (from matplotlib) (11.2.1)\n",
            "Requirement already satisfied: pyparsing>=2.3.1 in /usr/local/lib/python3.11/dist-packages (from matplotlib) (3.2.3)\n",
            "Requirement already satisfied: joblib>=1.2.0 in /usr/local/lib/python3.11/dist-packages (from scikit-learn) (1.5.1)\n",
            "Requirement already satisfied: threadpoolctl>=3.1.0 in /usr/local/lib/python3.11/dist-packages (from scikit-learn) (3.6.0)\n",
            "Requirement already satisfied: six>=1.5 in /usr/local/lib/python3.11/dist-packages (from python-dateutil>=2.8.2->pandas) (1.17.0)\n",
            "Downloading aif360-0.6.1-py3-none-any.whl (259 kB)\n",
            "\u001b[2K   \u001b[90m━━━━━━━━━━━━━━━━━━━━━━━━━━━━━━━━━━━━━━━━\u001b[0m \u001b[32m259.7/259.7 kB\u001b[0m \u001b[31m5.8 MB/s\u001b[0m eta \u001b[36m0:00:00\u001b[0m\n",
            "\u001b[?25hInstalling collected packages: aif360\n",
            "Successfully installed aif360-0.6.1\n"
          ]
        },
        {
          "name": "stderr",
          "output_type": "stream",
          "text": [
            "WARNING:root:No module named 'fairlearn': ExponentiatedGradientReduction will be unavailable. To install, run:\n",
            "pip install 'aif360[Reductions]'\n",
            "WARNING:root:No module named 'fairlearn': GridSearchReduction will be unavailable. To install, run:\n",
            "pip install 'aif360[Reductions]'\n",
            "WARNING:root:No module named 'inFairness': SenSeI and SenSR will be unavailable. To install, run:\n",
            "pip install 'aif360[inFairness]'\n",
            "WARNING:root:No module named 'fairlearn': GridSearchReduction will be unavailable. To install, run:\n",
            "pip install 'aif360[Reductions]'\n"
          ]
        }
      ],
      "source": [
        "# Install required packages\n",
        "%pip install aif360 pandas matplotlib scikit-learn\n",
        "\n",
        "import pandas as pd\n",
        "import numpy as np\n",
        "import matplotlib.pyplot as plt\n",
        "from aif360.datasets import CompasDataset\n",
        "from aif360.metrics import BinaryLabelDatasetMetric\n",
        "from sklearn.metrics import confusion_matrix, ConfusionMatrixDisplay\n",
        "import warnings\n",
        "warnings.filterwarnings('ignore')"
      ]
    },
    {
      "cell_type": "markdown",
      "metadata": {
        "id": "zE1jpePWGNBo"
      },
      "source": [
        "## 1. Load the COMPAS Dataset\n",
        "\n",
        "Download the dataset from [ProPublica](https://projects.propublica.org/datastore/#compas-recidivism-risk-score-data-and-analysis) and place it in the working directory as `compas-scores-two-years.csv`."
      ]
    },
    {
      "cell_type": "code",
      "execution_count": null,
      "metadata": {
        "id": "IHYtU2R8Pk4c"
      },
      "outputs": [],
      "source": [
        "# Load COMPAS dataset using AIF360\n",
        "compas = CompasDataset()\n",
        "df = compas.convert_to_dataframe()[0]\n",
        "df.head()"
      ]
    },
    {
      "cell_type": "markdown",
      "metadata": {
        "id": "DbuGmk-VPpSb"
      },
      "source": [
        "## 2. Preprocess Data\n",
        "\n",
        "Focus on race as the protected attribute. Define privileged (Caucasian) and unprivileged (African-American) groups."
      ]
    },
    {
      "cell_type": "code",
      "execution_count": null,
      "metadata": {
        "id": "6LBiGLKoP7In"
      },
      "outputs": [],
      "source": [
        "# Define privileged and unprivileged groups\n",
        "privileged_groups = [{'race': 1}]  # Caucasian\n",
        "unprivileged_groups = [{'race': 0}]  # African-American\n",
        "\n",
        "# Check class balance\n",
        "df['race'].value_counts()"
      ]
    },
    {
      "cell_type": "markdown",
      "metadata": {
        "id": "g2dCE42cQB8D"
      },
      "source": [
        "## 3. Compute Fairness Metrics\n",
        "\n",
        "- Disparate impact ratio\n",
        "- Equal opportunity difference\n",
        "- False positive and false negative rates by race"
      ]
    },
    {
      "cell_type": "code",
      "execution_count": null,
      "metadata": {
        "id": "xI_oBNwsQG10"
      },
      "outputs": [],
      "source": [
        "# Compute metrics\n",
        "metric = BinaryLabelDatasetMetric(\n",
        "    compas,\n",
        "    privileged_groups=privileged_groups,\n",
        "    unprivileged_groups=unprivileged_groups\n",
        ")\n",
        "\n",
        "disparate_impact = metric.disparate_impact()\n",
        "print(f'Disparate Impact Ratio: {disparate_impact:.3f}')\n",
        "\n",
        "# For equal opportunity and confusion matrix, need predictions\n",
        "# Here, use the original labels as 'predictions' for demonstration\n",
        "y_true = compas.labels.ravel()\n",
        "y_pred = compas.labels.ravel()\n",
        "\n",
        "# Split by race\n",
        "mask_white = compas.protected_attributes.ravel() == 1\n",
        "mask_black = compas.protected_attributes.ravel() == 0\n",
        "\n",
        "def rates(y_true, y_pred, mask):\n",
        "    tn, fp, fn, tp = confusion_matrix(y_true[mask], y_pred[mask]).ravel()\n",
        "    fpr = fp / (fp + tn)\n",
        "    fnr = fn / (fn + tp)\n",
        "    tpr = tp / (tp + fn)\n",
        "    return fpr, fnr, tpr\n",
        "\n",
        "fpr_white, fnr_white, tpr_white = rates(y_true, y_pred, mask_white)\n",
        "fpr_black, fnr_black, tpr_black = rates(y_true, y_pred, mask_black)\n",
        "\n",
        "equal_opp_diff = tpr_white - tpr_black\n",
        "print(f'Equal Opportunity Difference (TPR White - TPR Black): {equal_opp_diff:.3f}')\n",
        "print(f'False Positive Rate (White): {fpr_white:.3f}, (Black): {fpr_black:.3f}')\n",
        "print(f'False Negative Rate (White): {fnr_white:.3f}, (Black): {fnr_black:.3f}')"
      ]
    },
    {
      "cell_type": "markdown",
      "metadata": {
        "id": "G4ilgNsBQKnW"
      },
      "source": [
        "## 4. Visualizations\n",
        "\n",
        "- Bar plots comparing risk scores across groups\n",
        "- Confusion matrix visualizations"
      ]
    },
    {
      "cell_type": "code",
      "execution_count": null,
      "metadata": {
        "id": "ZPPqSHKyQPBx"
      },
      "outputs": [],
      "source": [
        "# Bar plot: High risk rate by race\n",
        "risk_by_race = df.groupby('race')['two_year_recid'].mean()\n",
        "risk_by_race.plot(kind='bar', color=['#4F81BD', '#C0504D'])\n",
        "plt.title('High Risk Rate by Race')\n",
        "plt.ylabel('Proportion Classified High Risk')\n",
        "plt.xlabel('Race (0=Black, 1=White)')\n",
        "plt.show()"
      ]
    },
    {
      "cell_type": "code",
      "execution_count": null,
      "metadata": {
        "id": "mF13cYNtQS4l"
      },
      "outputs": [],
      "source": [
        "# Confusion matrices\n",
        "for label, mask in [('White', mask_white), ('Black', mask_black)]:\n",
        "    cm = confusion_matrix(y_true[mask], y_pred[mask])\n",
        "    disp = ConfusionMatrixDisplay(confusion_matrix=cm)\n",
        "    disp.plot()\n",
        "    plt.title(f'Confusion Matrix: {label}')\n",
        "    plt.show()"
      ]
    },
    {
      "cell_type": "markdown",
      "metadata": {
        "id": "RMEwozaMQXhf"
      },
      "source": [
        "---\n",
        "\n",
        "For summary, ethical implications, and mitigation steps, see `Compas_Dataset_Audit.md`."
      ]
    }
  ],
  "metadata": {
    "colab": {
      "provenance": []
    },
    "kernelspec": {
      "display_name": "Python 3",
      "name": "python3"
    },
    "language_info": {
      "name": "python"
    }
  },
  "nbformat": 4,
  "nbformat_minor": 0
}
